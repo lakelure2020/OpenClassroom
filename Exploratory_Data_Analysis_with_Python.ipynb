{
 "cells": [
  {
   "cell_type": "markdown",
   "metadata": {},
   "source": [
    "# Analyze the sales of the company in order to target new areas of growth"
   ]
  },
  {
   "cell_type": "code",
   "execution_count": 1,
   "metadata": {},
   "outputs": [],
   "source": [
    "import numpy as np\n",
    "import matplotlib.pyplot as plt\n",
    "%matplotlib inline\n",
    "import seaborn as sns\n",
    "import pandas as pd\n",
    "import statistics"
   ]
  },
  {
   "cell_type": "code",
   "execution_count": 2,
   "metadata": {},
   "outputs": [
    {
     "name": "stdout",
     "output_type": "stream",
     "text": [
      "       id_prod                        date session_id client_id\n",
      "0       0_1483  2021-04-10 18:37:28.723910    s_18746    c_4450\n",
      "1        2_226  2022-02-03 01:55:53.276402   s_159142     c_277\n",
      "2        1_374  2021-09-23 15:13:46.938559    s_94290    c_4270\n",
      "3       0_2186  2021-10-17 03:27:18.783634   s_105936    c_4597\n",
      "4       0_1351  2021-07-17 20:34:25.800563    s_63642    c_1242\n",
      "...        ...                         ...        ...       ...\n",
      "337011   1_671  2021-05-28 12:35:46.214839    s_40720    c_3454\n",
      "337012   0_759  2021-06-19 00:19:23.917703    s_50568    c_6268\n",
      "337013  0_1256  2021-03-16 17:31:59.442007     s_7219    c_4137\n",
      "337014   2_227  2021-10-30 16:50:15.997750   s_112349       c_5\n",
      "337015  0_1417  2021-06-26 14:38:19.732946    s_54117    c_6714\n",
      "\n",
      "[337016 rows x 4 columns]\n"
     ]
    }
   ],
   "source": [
    "transactions = pd.read_csv('transactions.csv')\n",
    "print(transactions)"
   ]
  },
  {
   "cell_type": "code",
   "execution_count": 3,
   "metadata": {},
   "outputs": [
    {
     "data": {
      "text/plain": [
       "0"
      ]
     },
     "execution_count": 3,
     "metadata": {},
     "output_type": "execute_result"
    }
   ],
   "source": [
    "# How many missing values in data\n",
    "transactions.isnull().sum().sum()"
   ]
  },
  {
   "cell_type": "code",
   "execution_count": 4,
   "metadata": {},
   "outputs": [
    {
     "data": {
      "text/plain": [
       "id_prod       0\n",
       "date          0\n",
       "session_id    0\n",
       "client_id     0\n",
       "dtype: int64"
      ]
     },
     "execution_count": 4,
     "metadata": {},
     "output_type": "execute_result"
    }
   ],
   "source": [
    "#Check missing by variable\n",
    "transactions.isnull().sum()"
   ]
  },
  {
   "cell_type": "code",
   "execution_count": 5,
   "metadata": {},
   "outputs": [
    {
     "name": "stdout",
     "output_type": "stream",
     "text": [
      "<class 'pandas.core.frame.DataFrame'>\n"
     ]
    }
   ],
   "source": [
    "print(type(transactions))"
   ]
  },
  {
   "cell_type": "code",
   "execution_count": 6,
   "metadata": {},
   "outputs": [
    {
     "name": "stdout",
     "output_type": "stream",
     "text": [
      "     id_prod   price  categ\n",
      "0     0_1421   19.99      0\n",
      "1     0_1368    5.13      0\n",
      "2      0_731   17.99      0\n",
      "3      1_587    4.99      1\n",
      "4     0_1507    3.99      0\n",
      "...      ...     ...    ...\n",
      "3282    2_23  115.99      2\n",
      "3283   0_146   17.14      0\n",
      "3284   0_802   11.22      0\n",
      "3285   1_140   38.56      1\n",
      "3286  0_1920   25.16      0\n",
      "\n",
      "[3287 rows x 3 columns]\n"
     ]
    }
   ],
   "source": [
    "products = pd.read_csv('products.csv')\n",
    "print(products)"
   ]
  },
  {
   "cell_type": "code",
   "execution_count": 7,
   "metadata": {},
   "outputs": [
    {
     "data": {
      "text/plain": [
       "id_prod    0\n",
       "price      0\n",
       "categ      0\n",
       "dtype: int64"
      ]
     },
     "execution_count": 7,
     "metadata": {},
     "output_type": "execute_result"
    }
   ],
   "source": [
    "#fproducts.isnull().sum()"
   ]
  },
  {
   "cell_type": "code",
   "execution_count": 8,
   "metadata": {},
   "outputs": [
    {
     "name": "stdout",
     "output_type": "stream",
     "text": [
      "       id_prod                        date session_id client_id  price  categ\n",
      "0       0_1483  2021-04-10 18:37:28.723910    s_18746    c_4450   4.99    0.0\n",
      "1        2_226  2022-02-03 01:55:53.276402   s_159142     c_277  65.75    2.0\n",
      "2        1_374  2021-09-23 15:13:46.938559    s_94290    c_4270  10.71    1.0\n",
      "3       0_2186  2021-10-17 03:27:18.783634   s_105936    c_4597   4.20    0.0\n",
      "4       0_1351  2021-07-17 20:34:25.800563    s_63642    c_1242   8.99    0.0\n",
      "...        ...                         ...        ...       ...    ...    ...\n",
      "337011   1_671  2021-05-28 12:35:46.214839    s_40720    c_3454  31.99    1.0\n",
      "337012   0_759  2021-06-19 00:19:23.917703    s_50568    c_6268  22.99    0.0\n",
      "337013  0_1256  2021-03-16 17:31:59.442007     s_7219    c_4137  11.03    0.0\n",
      "337014   2_227  2021-10-30 16:50:15.997750   s_112349       c_5  50.99    2.0\n",
      "337015  0_1417  2021-06-26 14:38:19.732946    s_54117    c_6714  17.99    0.0\n",
      "\n",
      "[337016 rows x 6 columns]\n"
     ]
    }
   ],
   "source": [
    "## left join\n",
    "d = pd.merge(transactions, products, how='left', on=['id_prod'])\n",
    "print(d)"
   ]
  },
  {
   "cell_type": "code",
   "execution_count": 9,
   "metadata": {},
   "outputs": [
    {
     "data": {
      "text/plain": [
       "id_prod         0\n",
       "date            0\n",
       "session_id      0\n",
       "client_id       0\n",
       "price         103\n",
       "categ         103\n",
       "dtype: int64"
      ]
     },
     "execution_count": 9,
     "metadata": {},
     "output_type": "execute_result"
    }
   ],
   "source": [
    "d.isnull().sum()\n",
    "## production data has extra id_prod values that do not exist in transaction data, therefore there are null columns when\n",
    "## these datasets are joined together"
   ]
  },
  {
   "cell_type": "code",
   "execution_count": 17,
   "metadata": {},
   "outputs": [
    {
     "name": "stdout",
     "output_type": "stream",
     "text": [
      "Empty DataFrame\n",
      "Columns: [id_prod, date, session_id, client_id, price, categ, sex, birth]\n",
      "Index: []\n"
     ]
    }
   ],
   "source": [
    "filtered_df = df[df['id_prod'] == '0_1016']\n",
    "\n",
    "# Display the filtered DataFrame\n",
    "print(filtered_df)"
   ]
  },
  {
   "cell_type": "code",
   "execution_count": 12,
   "metadata": {},
   "outputs": [
    {
     "name": "stdout",
     "output_type": "stream",
     "text": [
      "       id_prod                        date session_id client_id   price  categ\n",
      "0       0_1483  2021-04-10 18:37:28.723910    s_18746    c_4450    4.99      0\n",
      "1       0_1483  2021-10-18 19:16:14.767807   s_106741    c_1576    4.99      0\n",
      "2       0_1483  2021-11-14 11:11:45.276771   s_119491     c_182    4.99      0\n",
      "3       0_1483  2021-07-30 19:37:16.087057    s_69222    c_1196    4.99      0\n",
      "4       0_1483  2021-03-30 14:18:13.403218    s_13545    c_2890    4.99      0\n",
      "...        ...                         ...        ...       ...     ...    ...\n",
      "336908  0_1683  2021-12-24 04:37:46.407713   s_139091    c_5508    2.99      0\n",
      "336909    2_98  2021-03-08 21:10:32.250919     s_3637    c_5967  149.74      2\n",
      "336910   0_833  2021-09-27 23:22:40.394509    s_96558    c_8260    2.99      0\n",
      "336911  0_1284  2021-04-14 13:13:06.560397    s_20477    c_1551    1.38      0\n",
      "336912  0_1116  2021-07-27 04:02:53.408409    s_67633    c_3291    2.97      0\n",
      "\n",
      "[336913 rows x 6 columns]\n"
     ]
    }
   ],
   "source": [
    "#perform regular join instead\n",
    "d1 = transactions.merge(products, left_on = 'id_prod', right_on ='id_prod')\n",
    "print(d1)"
   ]
  },
  {
   "cell_type": "code",
   "execution_count": 13,
   "metadata": {},
   "outputs": [
    {
     "data": {
      "text/plain": [
       "id_prod       0\n",
       "date          0\n",
       "session_id    0\n",
       "client_id     0\n",
       "price         0\n",
       "categ         0\n",
       "dtype: int64"
      ]
     },
     "execution_count": 13,
     "metadata": {},
     "output_type": "execute_result"
    }
   ],
   "source": [
    "d1.isnull().sum()"
   ]
  },
  {
   "cell_type": "code",
   "execution_count": 14,
   "metadata": {},
   "outputs": [
    {
     "name": "stdout",
     "output_type": "stream",
     "text": [
      "     client_id sex  birth\n",
      "0       c_4410   f   1967\n",
      "1       c_7839   f   1975\n",
      "2       c_1699   f   1984\n",
      "3       c_5961   f   1962\n",
      "4       c_5320   m   1943\n",
      "...        ...  ..    ...\n",
      "8618    c_7920   m   1956\n",
      "8619    c_7403   f   1970\n",
      "8620    c_5119   m   1974\n",
      "8621    c_5643   f   1968\n",
      "8622      c_84   f   1982\n",
      "\n",
      "[8623 rows x 3 columns]\n"
     ]
    }
   ],
   "source": [
    "customers = pd.read_csv('customers.csv')\n",
    "print(customers)"
   ]
  },
  {
   "cell_type": "code",
   "execution_count": 15,
   "metadata": {},
   "outputs": [
    {
     "data": {
      "text/plain": [
       "client_id    0\n",
       "sex          0\n",
       "birth        0\n",
       "dtype: int64"
      ]
     },
     "execution_count": 15,
     "metadata": {},
     "output_type": "execute_result"
    }
   ],
   "source": [
    "customers.isnull().sum()"
   ]
  },
  {
   "cell_type": "code",
   "execution_count": 16,
   "metadata": {},
   "outputs": [
    {
     "name": "stdout",
     "output_type": "stream",
     "text": [
      "       id_prod                        date session_id client_id  price  categ  \\\n",
      "0       0_1483  2021-04-10 18:37:28.723910    s_18746    c_4450   4.99      0   \n",
      "1       0_1085  2021-09-29 11:14:59.793823    s_97382    c_4450   3.99      0   \n",
      "2       0_1453  2021-08-27 19:50:46.796939    s_81509    c_4450   7.99      0   \n",
      "3       0_1405  2021-08-27 20:07:25.878440    s_81509    c_4450   4.99      0   \n",
      "4       0_1392  2021-12-28 11:45:04.072281   s_141302    c_4450   6.30      0   \n",
      "...        ...                         ...        ...       ...    ...    ...   \n",
      "336908   1_607  2021-09-25 07:26:00.224331    s_95185    c_4786  26.99      1   \n",
      "336909   1_673  2021-06-01 00:49:49.781631    s_42350    c_2793  12.99      1   \n",
      "336910  0_2075  2021-10-09 09:03:48.268536   s_102200    c_2793   8.99      0   \n",
      "336911  0_1692  2021-09-15 19:42:08.596375    s_90430    c_4478  13.36      0   \n",
      "336912   0_142  2021-09-25 18:07:25.880052    s_95415    c_1232  19.85      0   \n",
      "\n",
      "       sex  birth  \n",
      "0        f   1977  \n",
      "1        f   1977  \n",
      "2        f   1977  \n",
      "3        f   1977  \n",
      "4        f   1977  \n",
      "...     ..    ...  \n",
      "336908   f   1967  \n",
      "336909   m   1933  \n",
      "336910   m   1933  \n",
      "336911   f   1970  \n",
      "336912   f   1960  \n",
      "\n",
      "[336913 rows x 8 columns]\n"
     ]
    }
   ],
   "source": [
    "df = d1.merge(customers, left_on = 'client_id', right_on ='client_id')\n",
    "print(df)"
   ]
  },
  {
   "cell_type": "code",
   "execution_count": 18,
   "metadata": {},
   "outputs": [
    {
     "data": {
      "text/plain": [
       "id_prod       0\n",
       "date          0\n",
       "session_id    0\n",
       "client_id     0\n",
       "price         0\n",
       "categ         0\n",
       "sex           0\n",
       "birth         0\n",
       "dtype: int64"
      ]
     },
     "execution_count": 18,
     "metadata": {},
     "output_type": "execute_result"
    }
   ],
   "source": [
    "df.isnull().sum()"
   ]
  },
  {
   "cell_type": "markdown",
   "metadata": {},
   "source": [
    "##### Central tendency (Mean, Mode, Median) and Dispersion Measures (Variance and Standard Deviation)"
   ]
  },
  {
   "cell_type": "code",
   "execution_count": 19,
   "metadata": {},
   "outputs": [
    {
     "data": {
      "text/plain": [
       "17.2"
      ]
     },
     "execution_count": 19,
     "metadata": {},
     "output_type": "execute_result"
    }
   ],
   "source": [
    "round(statistics.mean(df['price']),2)"
   ]
  },
  {
   "cell_type": "code",
   "execution_count": 20,
   "metadata": {},
   "outputs": [
    {
     "data": {
      "text/plain": [
       "13.9"
      ]
     },
     "execution_count": 20,
     "metadata": {},
     "output_type": "execute_result"
    }
   ],
   "source": [
    "statistics.median(df['price'])"
   ]
  },
  {
   "cell_type": "code",
   "execution_count": 21,
   "metadata": {},
   "outputs": [
    {
     "data": {
      "text/plain": [
       "15.99"
      ]
     },
     "execution_count": 21,
     "metadata": {},
     "output_type": "execute_result"
    }
   ],
   "source": [
    "statistics.mode(df['price'])"
   ]
  },
  {
   "cell_type": "code",
   "execution_count": 22,
   "metadata": {},
   "outputs": [
    {
     "data": {
      "text/plain": [
       "318.82"
      ]
     },
     "execution_count": 22,
     "metadata": {},
     "output_type": "execute_result"
    }
   ],
   "source": [
    "round(statistics.variance(df['price']),2)"
   ]
  },
  {
   "cell_type": "code",
   "execution_count": 23,
   "metadata": {},
   "outputs": [
    {
     "data": {
      "text/plain": [
       "17.86"
      ]
     },
     "execution_count": 23,
     "metadata": {},
     "output_type": "execute_result"
    }
   ],
   "source": [
    "round(statistics.stdev(df['price']),2)"
   ]
  },
  {
   "cell_type": "markdown",
   "metadata": {},
   "source": [
    "##### Lorenz curve and a Gini coefficient\n",
    "###### are used to measure the variability of the distribution of income and wealth. Hence, Lorenz Curve is the measure of the deviation of the actual distribution of a statistical series from the line of equal distribution. The extent of this deviation is known as Lorenz Coefficient."
   ]
  },
  {
   "cell_type": "code",
   "execution_count": 26,
   "metadata": {},
   "outputs": [
    {
     "name": "stdout",
     "output_type": "stream",
     "text": [
      "       id_prod                             date session_id client_id  price  \\\n",
      "336725     T_0  test_2021-03-01 02:30:02.237421        s_0      ct_1   -1.0   \n",
      "336703     T_0  test_2021-03-01 02:30:02.237414        s_0      ct_1   -1.0   \n",
      "336786     T_0  test_2021-03-01 02:30:02.237430        s_0      ct_0   -1.0   \n",
      "336704     T_0  test_2021-03-01 02:30:02.237418        s_0      ct_1   -1.0   \n",
      "336785     T_0  test_2021-03-01 02:30:02.237433        s_0      ct_0   -1.0   \n",
      "...        ...                              ...        ...       ...    ...   \n",
      "249749     2_2       2021-06-06 23:14:33.815188    s_45088    c_2467  300.0   \n",
      "213098     2_2       2021-05-02 18:34:47.753888    s_28956    c_2329  300.0   \n",
      "181445     2_2       2021-06-12 08:44:00.882917    s_47558    c_5237  300.0   \n",
      "49842      2_2       2021-03-26 04:33:19.697459    s_11582    c_4958  300.0   \n",
      "295762     2_2       2022-02-28 21:24:28.442508   s_172373     c_659  300.0   \n",
      "\n",
      "        categ sex  birth  \n",
      "336725      0   m   2001  \n",
      "336703      0   m   2001  \n",
      "336786      0   f   2001  \n",
      "336704      0   m   2001  \n",
      "336785      0   f   2001  \n",
      "...       ...  ..    ...  \n",
      "249749      2   f   1997  \n",
      "213098      2   f   1996  \n",
      "181445      2   m   1999  \n",
      "49842       2   m   1999  \n",
      "295762      2   f   2001  \n",
      "\n",
      "[336913 rows x 8 columns]\n"
     ]
    }
   ],
   "source": [
    "df = df.sort_values(by=['price'])\n",
    "print(df2)"
   ]
  },
  {
   "cell_type": "markdown",
   "metadata": {},
   "source": []
  },
  {
   "cell_type": "code",
   "execution_count": 28,
   "metadata": {},
   "outputs": [
    {
     "name": "stdout",
     "output_type": "stream",
     "text": [
      "       id_prod                             date session_id client_id  price  \\\n",
      "336725     T_0  test_2021-03-01 02:30:02.237421        s_0      ct_1   -1.0   \n",
      "336837     T_0  test_2021-03-01 02:30:02.237440        s_0      ct_0   -1.0   \n",
      "336836     T_0  test_2021-03-01 02:30:02.237435        s_0      ct_0   -1.0   \n",
      "336835     T_0  test_2021-03-01 02:30:02.237444        s_0      ct_0   -1.0   \n",
      "336834     T_0  test_2021-03-01 02:30:02.237416        s_0      ct_0   -1.0   \n",
      "...        ...                              ...        ...       ...    ...   \n",
      "49844      2_2       2021-12-04 15:45:14.708313   s_129351    c_4958  300.0   \n",
      "249749     2_2       2021-06-06 23:14:33.815188    s_45088    c_2467  300.0   \n",
      "213098     2_2       2021-05-02 18:34:47.753888    s_28956    c_2329  300.0   \n",
      "181445     2_2       2021-06-12 08:44:00.882917    s_47558    c_5237  300.0   \n",
      "295762     2_2       2022-02-28 21:24:28.442508   s_172373     c_659  300.0   \n",
      "\n",
      "        categ sex  birth  cumulative_perc  \n",
      "336725      0   m   2001    -1.725215e-07  \n",
      "336837      0   f   2001    -3.450431e-07  \n",
      "336836      0   f   2001    -5.175646e-07  \n",
      "336835      0   f   2001    -6.900861e-07  \n",
      "336834      0   f   2001    -8.626077e-07  \n",
      "...       ...  ..    ...              ...  \n",
      "49844       2   m   1999     9.997930e-01  \n",
      "249749      2   f   1997     9.998447e-01  \n",
      "213098      2   f   1996     9.998965e-01  \n",
      "181445      2   m   1999     9.999482e-01  \n",
      "295762      2   f   2001     1.000000e+00  \n",
      "\n",
      "[336913 rows x 9 columns]\n"
     ]
    }
   ],
   "source": [
    "##Calculate the cumulative sum of the sorted data and divide it by the total sum of the data \n",
    "df['cumulative_perc'] = df['price'].cumsum() / df['price'].sum() \n",
    "print(df)"
   ]
  },
  {
   "cell_type": "code",
   "execution_count": 36,
   "metadata": {},
   "outputs": [
    {
     "name": "stdout",
     "output_type": "stream",
     "text": [
      "The Gini coefficient is 0.39\n"
     ]
    }
   ],
   "source": [
    "##Calculate the Gini coefficient \n",
    "area_under_curve = df['cumulative_perc'].sum() / len(df) \n",
    "area_between_curve_and_diagonal = 0.5 - area_under_curve \n",
    "gini_coefficient = area_between_curve_and_diagonal / 0.5 \n",
    "print(f'The Gini coefficient is {gini_coefficient:.2f}')"
   ]
  },
  {
   "cell_type": "code",
   "execution_count": 55,
   "metadata": {},
   "outputs": [
    {
     "data": {
      "image/png": "[encoded data removed]",
      "text/plain": [
       "<Figure size 640x480 with 1 Axes>"
      ]
     },
     "metadata": {},
     "output_type": "display_data"
    },
    {
     "data": {
      "text/plain": [
       "[<matplotlib.lines.Line2D at 0x22644ca0510>]"
      ]
     },
     "execution_count": 55,
     "metadata": {},
     "output_type": "execute_result"
    },
    {
     "data": {
      "image/png": "[encoded data removed]",
      "text/plain": [
       "<Figure size 640x480 with 1 Axes>"
      ]
     },
     "metadata": {},
     "output_type": "display_data"
    }
   ],
   "source": [
    "# Generate x values\n",
    "x = np.linspace(0, 1, 10)\n",
    "\n",
    "# Define the line equation with the desired gini_coefficient\n",
    "y = gini_coefficient * x\n",
    "\n",
    "# Plot the line\n",
    "##plt.plot(x, y, label='Line with Coefficient 0.39', color='blue')\n",
    "\n",
    "plt.plot(x, y, label='gini_coefficient', color='blue')\n",
    "\n",
    "# Add labels and legend\n",
    "plt.title('gini_coefficient')\n",
    "plt.xlabel('X-axis')\n",
    "plt.ylabel('Y-axis')\n",
    "plt.legend()\n",
    "\n",
    "# Show the plot\n",
    "plt.show()\n",
    "\n",
    "##Calculate the Lorenz curve \n",
    "plt.plot(np.linspace(0, 1, len(df)), df['cumulative_perc'].values)"
   ]
  },
  {
   "cell_type": "markdown",
   "metadata": {},
   "source": [
    "#### Graphic representations, including at least one histogram, a representation with boxplots, and a time series graph (i.e a graph in which the abscissa axis represents dates)."
   ]
  },
  {
   "cell_type": "code",
   "execution_count": 56,
   "metadata": {},
   "outputs": [
    {
     "data": {
      "text/plain": [
       "[<matplotlib.lines.Line2D at 0x22644ca3c90>]"
      ]
     },
     "execution_count": 56,
     "metadata": {},
     "output_type": "execute_result"
    },
    {
     "data": {
      "image/png": "[encoded data removed]",
      "text/plain": [
       "<Figure size 640x480 with 1 Axes>"
      ]
     },
     "metadata": {},
     "output_type": "display_data"
    }
   ],
   "source": [
    "plt.plot(np.linspace(0, 1, len(df)), df['cumulative_perc'].values)\n",
    "plt.plot(x, y, label='gini_coefficient', color='blue')"
   ]
  },
  {
   "cell_type": "code",
   "execution_count": null,
   "metadata": {},
   "outputs": [],
   "source": []
  }
 ],
 "metadata": {
  "kernelspec": {
   "display_name": "Python 3 (ipykernel)",
   "language": "python",
   "name": "python3"
  },
  "language_info": {
   "codemirror_mode": {
    "name": "ipython",
    "version": 3
   },
   "file_extension": ".py",
   "mimetype": "text/x-python",
   "name": "python",
   "nbconvert_exporter": "python",
   "pygments_lexer": "ipython3",
   "version": "3.11.5"
  }
 },
 "nbformat": 4,
 "nbformat_minor": 2
}
